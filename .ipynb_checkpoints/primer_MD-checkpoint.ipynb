{
 "cells": [
  {
   "cell_type": "markdown",
   "id": "41dfc42a-0920-45a4-9c0f-132e30b8247b",
   "metadata": {},
   "source": [
    "# Ciencia de Datos  \n",
    "## Introducción  \n",
    "### Herramientas  "
   ]
  },
  {
   "cell_type": "markdown",
   "id": "a46316fa-cb97-4c4e-bf64-220b147de622",
   "metadata": {},
   "source": [
    "***"
   ]
  },
  {
   "cell_type": "markdown",
   "id": "29d2f0d2-3f0d-4a6d-86aa-0effeb472083",
   "metadata": {},
   "source": [
    "Aquí, con **Markdown**  \n",
    "Y *Jupyter* se ha unido al grupo  \n",
    "¿Ganas? Ganazas de aprender ***Python*** "
   ]
  },
  {
   "cell_type": "markdown",
   "id": "89d2dfd9-7b7e-4d0c-948e-5d771282652c",
   "metadata": {},
   "source": [
    "***"
   ]
  },
  {
   "cell_type": "markdown",
   "id": "2a8992af-1c71-4de5-85eb-fa265a607456",
   "metadata": {},
   "source": [
    "<span style=\"background-color: yellow;\">resaltado</span>   \n",
    "<span style=\"color:blue\">color</span>"
   ]
  },
  {
   "cell_type": "markdown",
   "id": "51ebdfff-2612-401a-8eac-5602e3b21943",
   "metadata": {},
   "source": [
    "***"
   ]
  },
  {
   "cell_type": "markdown",
   "id": "c9facafa-4923-497a-9b26-339f23858b8b",
   "metadata": {},
   "source": [
    ">La Ciencia de datos es el petróleo del siglo XXI\n",
    ">>La Ciencia de datos es el petróleo del siglo XXI"
   ]
  },
  {
   "cell_type": "markdown",
   "id": "39308c07-c94b-443e-b00e-8fb48dfaa1c8",
   "metadata": {},
   "source": [
    "## Curso de Markdown  \n",
    "Lo **importante** es perseverar\n",
    ">Aprender es crear\n",
    "> \n",
    "<span style=\"background-color: green;\">*ejemplo*</span>\n"
   ]
  },
  {
   "cell_type": "code",
   "execution_count": null,
   "id": "6cc73b77-4e31-41c8-9105-f92fcac3dff5",
   "metadata": {},
   "outputs": [],
   "source": []
  }
 ],
 "metadata": {
  "kernelspec": {
   "display_name": "Python 3 (ipykernel)",
   "language": "python",
   "name": "python3"
  },
  "language_info": {
   "codemirror_mode": {
    "name": "ipython",
    "version": 3
   },
   "file_extension": ".py",
   "mimetype": "text/x-python",
   "name": "python",
   "nbconvert_exporter": "python",
   "pygments_lexer": "ipython3",
   "version": "3.13.2"
  }
 },
 "nbformat": 4,
 "nbformat_minor": 5
}
