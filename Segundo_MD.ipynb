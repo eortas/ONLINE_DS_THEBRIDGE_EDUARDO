{
 "cells": [
  {
   "cell_type": "markdown",
   "id": "e2c8c363-9077-470b-bde8-1c2dfeca765b",
   "metadata": {},
   "source": [
    "* Manzanas\n",
    "* Plátanos\n",
    "* Uvas"
   ]
  },
  {
   "cell_type": "markdown",
   "id": "3a76f4c1-798f-4ed2-ac92-22f8c1e9f98f",
   "metadata": {},
   "source": [
    "***"
   ]
  },
  {
   "cell_type": "markdown",
   "id": "2d87613c-0ca6-40e2-a6c1-ceb16dc2fb83",
   "metadata": {},
   "source": [
    "1. Arbol binario\n",
    "2. Random Forest\n",
    "3. Regresión Logística"
   ]
  },
  {
   "cell_type": "markdown",
   "id": "c20a281f-de64-4a86-b487-c4fd11a7e775",
   "metadata": {},
   "source": [
    "***"
   ]
  },
  {
   "cell_type": "markdown",
   "id": "08c3d298-7fcd-4a22-9773-aab22281eb13",
   "metadata": {},
   "source": [
    "# Frutas y Verduras\n",
    "1. Frutas\n",
    "   * Manzana\n",
    "   * Plátano\n",
    "   * Tomate\n",
    "2. Verdura\n",
    "   * Brocoli\n",
    "   * Apio\n",
    "   * Rábano\n",
    "   "
   ]
  },
  {
   "cell_type": "markdown",
   "id": "8ba6b574-7ff5-432a-874d-5a24944f49a8",
   "metadata": {},
   "source": [
    "***"
   ]
  },
  {
   "cell_type": "markdown",
   "id": "009b0caa-0aff-4f8d-aaf1-71ca6a815dcb",
   "metadata": {},
   "source": [
    "[Por aquí se cruzan puentes](www.thebridge.com)"
   ]
  },
  {
   "cell_type": "markdown",
   "id": "088384a9-c4cb-4193-ba7c-691349adc3a0",
   "metadata": {},
   "source": [
    "![logo](./img/descarga.svg)"
   ]
  },
  {
   "cell_type": "markdown",
   "id": "fb555935-2394-4a5e-8c81-7a87f21efbc3",
   "metadata": {},
   "source": [
    "***\n",
    "```Python\n",
    "print(\"Hola Mundo\")\n",
    "```\n",
    "---"
   ]
  },
  {
   "cell_type": "code",
   "execution_count": null,
   "id": "48520023-fe85-446c-8225-4247f0220a5d",
   "metadata": {},
   "outputs": [],
   "source": []
  }
 ],
 "metadata": {
  "kernelspec": {
   "display_name": "Python 3 (ipykernel)",
   "language": "python",
   "name": "python3"
  },
  "language_info": {
   "codemirror_mode": {
    "name": "ipython",
    "version": 3
   },
   "file_extension": ".py",
   "mimetype": "text/x-python",
   "name": "python",
   "nbconvert_exporter": "python",
   "pygments_lexer": "ipython3",
   "version": "3.13.2"
  }
 },
 "nbformat": 4,
 "nbformat_minor": 5
}
