{
 "cells": [
  {
   "cell_type": "markdown",
   "id": "e2c8c363-9077-470b-bde8-1c2dfeca765b",
   "metadata": {},
   "source": [
    "* Manzanas\n",
    "* Plátanos\n",
    "* Uvas"
   ]
  },
  {
   "cell_type": "markdown",
   "id": "3a76f4c1-798f-4ed2-ac92-22f8c1e9f98f",
   "metadata": {},
   "source": [
    "***"
   ]
  },
  {
   "cell_type": "markdown",
   "id": "2d87613c-0ca6-40e2-a6c1-ceb16dc2fb83",
   "metadata": {},
   "source": [
    "1. Arbol binario\n",
    "2. Random Forest\n",
    "3. Regresión Logística"
   ]
  },
  {
   "cell_type": "markdown",
   "id": "c20a281f-de64-4a86-b487-c4fd11a7e775",
   "metadata": {},
   "source": [
    "***"
   ]
  },
  {
   "cell_type": "markdown",
   "id": "08c3d298-7fcd-4a22-9773-aab22281eb13",
   "metadata": {},
   "source": [
    "# Frutas y Verduras\n",
    "1. Frutas\n",
    "   * Manzana\n",
    "   * Plátano\n",
    "   * Tomate\n",
    "2. Verdura\n",
    "   * Brocoli\n",
    "   * Apio\n",
    "   * Rábano\n",
    "   "
   ]
  },
  {
   "cell_type": "markdown",
   "id": "8ba6b574-7ff5-432a-874d-5a24944f49a8",
   "metadata": {},
   "source": [
    "***"
   ]
  },
  {
   "cell_type": "markdown",
   "id": "009b0caa-0aff-4f8d-aaf1-71ca6a815dcb",
   "metadata": {},
   "source": [
    "[Por aquí se cruzan puentes](www.thebridge.com)"
   ]
  },
  {
   "cell_type": "code",
   "execution_count": null,
   "id": "ce559e26-f828-4a0f-b1eb-89f32e26b50c",
   "metadata": {},
   "outputs": [],
   "source": []
  }
 ],
 "metadata": {
  "kernelspec": {
   "display_name": "Python 3 (ipykernel)",
   "language": "python",
   "name": "python3"
  },
  "language_info": {
   "codemirror_mode": {
    "name": "ipython",
    "version": 3
   },
   "file_extension": ".py",
   "mimetype": "text/x-python",
   "name": "python",
   "nbconvert_exporter": "python",
   "pygments_lexer": "ipython3",
   "version": "3.13.2"
  }
 },
 "nbformat": 4,
 "nbformat_minor": 5
}
